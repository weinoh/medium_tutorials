{
 "cells": [
  {
   "cell_type": "markdown",
   "metadata": {},
   "source": [
    "# NBA_py Pull\n",
    "\n",
    "This sheet will pull the historical data files we want to include in our database."
   ]
  },
  {
   "cell_type": "code",
   "execution_count": null,
   "metadata": {},
   "outputs": [],
   "source": [
    "import os\n",
    "import pandas as pd\n",
    "import nba_py as nba\n",
    "from nba_py import team\n",
    "from nba_py import game\n",
    "from nba_py import player\n",
    "\n",
    "#new packages\n",
    "import datetime as dt\n",
    "import random\n",
    "from time import sleep"
   ]
  },
  {
   "cell_type": "markdown",
   "metadata": {},
   "source": [
    "# NBA Season Info\n",
    "* Earliest was 2018-19 season: October 16\n",
    "* 2011-12 season started on Christmas due to lockout\n",
    "* we'll pull 2012-13 season through 2018-19"
   ]
  },
  {
   "cell_type": "markdown",
   "metadata": {},
   "source": [
    "## Using Datetimes"
   ]
  },
  {
   "cell_type": "code",
   "execution_count": null,
   "metadata": {
    "scrolled": true
   },
   "outputs": [],
   "source": [
    "dt.date.today()"
   ]
  },
  {
   "cell_type": "code",
   "execution_count": null,
   "metadata": {},
   "outputs": [],
   "source": [
    "dt.date.today().month"
   ]
  },
  {
   "cell_type": "code",
   "execution_count": null,
   "metadata": {},
   "outputs": [],
   "source": [
    "start_date = dt.date(2012, 10, 4)\n",
    "start_date"
   ]
  },
  {
   "cell_type": "code",
   "execution_count": null,
   "metadata": {},
   "outputs": [],
   "source": [
    "start_date+1"
   ]
  },
  {
   "cell_type": "code",
   "execution_count": null,
   "metadata": {},
   "outputs": [],
   "source": [
    "start_date + dt.timedelta(1)"
   ]
  },
  {
   "cell_type": "code",
   "execution_count": null,
   "metadata": {},
   "outputs": [],
   "source": [
    "start_date + dt.timedelta(89)"
   ]
  },
  {
   "cell_type": "code",
   "execution_count": null,
   "metadata": {},
   "outputs": [],
   "source": [
    "start_date < dt.date(2012, 10, 2)"
   ]
  },
  {
   "cell_type": "code",
   "execution_count": null,
   "metadata": {},
   "outputs": [],
   "source": [
    "start_date.strftime('%d-%m-%Y')"
   ]
  },
  {
   "cell_type": "code",
   "execution_count": null,
   "metadata": {},
   "outputs": [],
   "source": [
    "start_date.strftime('%y-%m-%d')"
   ]
  },
  {
   "cell_type": "code",
   "execution_count": null,
   "metadata": {},
   "outputs": [],
   "source": [
    "start_date.strftime('%D')"
   ]
  },
  {
   "cell_type": "code",
   "execution_count": null,
   "metadata": {},
   "outputs": [],
   "source": [
    "start_date.strftime('%Y/%d/%m')"
   ]
  },
  {
   "cell_type": "markdown",
   "metadata": {},
   "source": [
    "## Using Sleep and Randint For Rate Limiting"
   ]
  },
  {
   "cell_type": "code",
   "execution_count": null,
   "metadata": {},
   "outputs": [],
   "source": [
    "for i in range(3):\n",
    "    sleep(random.randint(1, 3))\n",
    "    print(i)"
   ]
  },
  {
   "cell_type": "code",
   "execution_count": null,
   "metadata": {},
   "outputs": [],
   "source": [
    "for i in range(10):\n",
    "    sleep(random.uniform(.05, 1.8))\n",
    "    print(i)"
   ]
  },
  {
   "cell_type": "markdown",
   "metadata": {},
   "source": [
    "## Data Pull"
   ]
  },
  {
   "cell_type": "markdown",
   "metadata": {},
   "source": [
    "### Option 1\n",
    "\n",
    "We'll pull the game logs for each team/season and add them to a list.  Then we'll deduplicate the list and have our games.\n",
    "\n",
    "<b> Benefits: </b>\n",
    "* Perform significantly fewer codes to get game_ids (30 per season, 210 total)\n",
    "* Don't need to know start and end dates of seasons\n",
    "* No worries about pulling preseason or post-season data\n",
    "\n",
    "<b> Drawbacks: </b>\n",
    "* Not a great method for incremental data pulls\n",
    "* Can get blocked by nba.com\n",
    "* An interruption in the pull means you must start over\n",
    "* Must have a lot of available memory to save all dataframes in memory before saving to csv"
   ]
  },
  {
   "cell_type": "code",
   "execution_count": null,
   "metadata": {},
   "outputs": [],
   "source": [
    "team_ids = team.TeamList(league_id='00').info()['TEAM_ID'][:30]\n",
    "seasons = ['2012-13', '2013-14', '2014-15', '2015-16', '2017-18', '2018-19']"
   ]
  },
  {
   "cell_type": "code",
   "execution_count": null,
   "metadata": {},
   "outputs": [],
   "source": [
    "gids = []\n",
    "for team_id in team_ids:\n",
    "    for season in seasons:\n",
    "        sleep(random.uniform(.05, 1.8))\n",
    "        gids += team.TeamGameLogs(team_id, season).info()['Game_ID'].to_list()"
   ]
  },
  {
   "cell_type": "code",
   "execution_count": null,
   "metadata": {},
   "outputs": [],
   "source": [
    "df_gids = pd.DataFrame({'gids':list(set(gids))})\n",
    "df_gids.to_csv('gids.csv',index=False)"
   ]
  },
  {
   "cell_type": "code",
   "execution_count": null,
   "metadata": {},
   "outputs": [],
   "source": [
    "# Get unique values, but return to list so can have an index\n",
    "gids = list(set(gids))\n",
    "for i in gids:\n",
    "    # For the first i, we'll initiate dataframes\n",
    "    if i == gids[0]:\n",
    "        gl_player = game.Boxscore(i).player_stats()\n",
    "        sleep(random.uniform(.05, .33))\n",
    "        gl_team = game.Boxscore(i).team_stats()\n",
    "        sleep(random.uniform(.05, .33))\n",
    "        gl_player_adv = game.BoxscoreAdvanced(i).sql_players_advanced()\n",
    "        sleep(random.uniform(.05, .33))\n",
    "        gl_team_adv = game.BoxscoreAdvanced(i).sql_team_advanced()\n",
    "        sleep(random.uniform(.05, .33))\n",
    "        gl_player_ff = game.BoxscoreFourFactors(i).sql_players_four_factors()\n",
    "        sleep(random.uniform(.05, .33))\n",
    "        gl_team_ff = game.BoxscoreFourFactors(i).sql_team_four_factors()\n",
    "        sleep(random.uniform(.05, .33))\n",
    "        gl_player_misc = game.BoxscoreMisc(i).sql_players_misc()\n",
    "        sleep(random.uniform(.05, .33))\n",
    "        gl_team_misc = game.BoxscoreMisc(i).sql_team_misc()\n",
    "        sleep(random.uniform(.05, .33))\n",
    "        gl_player_scoring = game.BoxscoreScoring(i).sql_players_scoring()\n",
    "        sleep(random.uniform(.05, .33))\n",
    "        gl_team_scoring = game.BoxscoreScoring(i).sql_team_scoring()\n",
    "        sleep(random.uniform(.05, .33))\n",
    "        gl_player_usage = game.BoxscoreUsage(i).sql_players_usage()\n",
    "        sleep(random.uniform(.05, .33))\n",
    "        gl_team_usage = game.BoxscoreUsage(i).sql_team_usage()\n",
    "        sleep(random.uniform(.05, .33))\n",
    "        gl_other = game.BoxscoreSummary(i).other_stats()\n",
    "        sleep(random.uniform(.05, .33))\n",
    "        gl_summary = game.BoxscoreSummary(i).game_summary()\n",
    "        print('finished first pulls!')\n",
    "    else:\n",
    "        if gids.index(i) % 300==0:\n",
    "            #track our progress\n",
    "            print(gids.index(i))\n",
    "            #add higher sleep time\n",
    "            sleep(random.uniform(3, 18))\n",
    "        gl_player = gl_player.append(game.Boxscore(i).player_stats())\n",
    "        sleep(random.uniform(.05, .33))\n",
    "        gl_team = gl_team.append(game.Boxscore(i).team_stats())\n",
    "        sleep(random.uniform(.05, .33))\n",
    "        gl_player_adv = gl_player_adv.append(game.BoxscoreAdvanced(i).sql_players_advanced())\n",
    "        sleep(random.uniform(.05, .33))\n",
    "        gl_team_adv = gl_team_adv.append(game.BoxscoreAdvanced(i).sql_team_advanced())\n",
    "        sleep(random.uniform(.05, .33))\n",
    "        gl_player_ff = gl_player_ff.append(game.BoxscoreFourFactors(i).sql_players_four_factors())\n",
    "        sleep(random.uniform(.05, .33))\n",
    "        gl_team_ff = gl_team_ff.append(game.BoxscoreFourFactors(i).sql_team_four_factors())\n",
    "        sleep(random.uniform(.05, .33))\n",
    "        gl_player_misc = gl_player_misc.append(game.BoxscoreMisc(i).sql_players_misc())\n",
    "        sleep(random.uniform(.05, .33))\n",
    "        gl_team_misc = gl_team_misc.append(game.BoxscoreMisc(i).sql_team_misc())\n",
    "        sleep(random.uniform(.05, .33))\n",
    "        gl_player_scoring = gl_player_scoring.append(game.BoxscoreScoring(i).sql_players_scoring())\n",
    "        sleep(random.uniform(.05, .33))\n",
    "        gl_team_scoring = gl_team_scoring.append(game.BoxscoreScoring(i).sql_team_scoring())\n",
    "        sleep(random.uniform(.05, .33))\n",
    "        gl_player_usage = gl_player_usage.append(game.BoxscoreUsage(i).sql_players_usage())\n",
    "        sleep(random.uniform(.05, .33))\n",
    "        gl_team_usage = gl_team_usage.append(game.BoxscoreUsage(i).sql_team_usage())\n",
    "        sleep(random.uniform(.05, .33))\n",
    "        gl_other = gl_other.append(game.BoxscoreSummary(i).other_stats())\n",
    "        sleep(random.uniform(.05, .33))\n",
    "        gl_summary = gl_summary.append(game.BoxscoreSummary(i).game_summary())\n",
    "    \n",
    "    \n",
    "        \n",
    "os.chdir('../base_data/')\n",
    "gl_player.to_csv('gl_player.csv', index=False)\n",
    "gl_team.to_csv('gl_team.csv', index=False)\n",
    "gl_player_adv.to_csv('gl_player_adv.csv', index=False)\n",
    "gl_team_adv.to_csv('gl_team_adv.csv', index=False)\n",
    "gl_player_ff.to_csv('gl_player_ff.csv', index=False)\n",
    "gl_team_ff.to_csv('gl_team_ff.csv', index=False)\n",
    "gl_player_misc.to_csv('gl_player_misc.csv', index=False)\n",
    "gl_team_misc.to_csv('gl_team_misc.csv', index=False)\n",
    "gl_player_scoring.to_csv('gl_player_scoring.csv', index=False)\n",
    "gl_team_scoring.to_csv('gl_team_scoring.csv', index=False)\n",
    "gl_player_usage.to_csv('gl_player_usage.csv', index=False)\n",
    "gl_team_usage.to_csv('gl_team_usage.csv', index=False) \n",
    "gl_other.to_csv('gl_other.csv', index=False)\n",
    "gl_summary.to_csv('gl_summary.csv', index=False)   "
   ]
  },
  {
   "cell_type": "markdown",
   "metadata": {},
   "source": [
    "### Option 2\n",
    "Pull the scoreboard every day of the nba season and iterate through each game id.  \n",
    "<br>\n",
    "<b>Benefits:</b> \n",
    "* don't have to worry about duplicate game ids\n",
    "* can pull for specific dates\n",
    "* if interrupted, can continue at specific point in time\n",
    "<br>\n",
    "\n",
    "<b>Drawbacks: </b>\n",
    "* You perform almost 1200 calls to the server just to get the game ids for the from 2012-13 - 2018-19\n",
    "* If you choose the wrong dates, you may pull preseason data.\n",
    "* Will include the all-star game"
   ]
  },
  {
   "cell_type": "code",
   "execution_count": null,
   "metadata": {},
   "outputs": [],
   "source": [
    "#Must set start date and end date\n",
    "start= ['2018-10-16']\n",
    "end = ['2019-04-10']\n",
    "num_days = dt.datetime.strptime(end[0], '%Y-%m-%d') - dt.datetime.strptime(start[0], '%Y-%m-%d')\n",
    "num_days"
   ]
  },
  {
   "cell_type": "code",
   "execution_count": null,
   "metadata": {},
   "outputs": [],
   "source": [
    "dt.datetime.strptime(start[0], '%Y-%m-%d') + num_days"
   ]
  },
  {
   "cell_type": "code",
   "execution_count": null,
   "metadata": {},
   "outputs": [],
   "source": [
    "starts = ['2012-10-30', '2013-10-29', '2014-10-28', '2015-10-27',\n",
    "         '2016-10-25', '2017-10-17', '2018-10-16']\n",
    "ends = ['2013-04-17', '2014-04-16', '2015-04-15', '2016-04-13',\n",
    "       '2017-04-12', '2018-04-11', '2019-04-10']\n",
    "\n",
    "#initialize a season length in days list\n",
    "l_days= []\n",
    "for start, end in zip(starts, ends):\n",
    "    num_days = dt.datetime.strptime(end, '%Y-%m-%d') - dt.datetime.strptime(start, '%Y-%m-%d')\n",
    "    l_days.append(num_days.days)\n",
    "\n",
    "sum(l_days)"
   ]
  },
  {
   "cell_type": "markdown",
   "metadata": {},
   "source": [
    "#### PSEUDO Code for this Method\n",
    "for start, l_day in zip(start, l_days):\n",
    "<br> &emsp; for i in range(l_day):\n",
    "<br> &emsp; &emsp; date = start + timedelta(i)\n",
    "<br> &emsp; &emsp; games = nba.Scoreboard(date.year, date.month, date.day).game_header()['GAME_ID']\n",
    "<br> &emsp; &emsp; Pull all relevant tables for each game_id and save them\n"
   ]
  },
  {
   "cell_type": "markdown",
   "metadata": {},
   "source": [
    "### Option 3\n",
    "Iterate through the dataframe of game_ids.  Create a binary \"downloaded\" column, that indicates when a game's data has already been downloaded.  Update the sheet throughout the pull so that it can be limited to non-downloaded games in the event the connection resets.\n",
    "<br>\n",
    "<b>Benefits:</b> \n",
    "* If interrupted, can continue at specific point in time\n",
    "* It will eventually work\n",
    "<br>\n",
    "\n",
    "<b>Drawbacks: </b>\n",
    "* It is slow"
   ]
  },
  {
   "cell_type": "code",
   "execution_count": null,
   "metadata": {},
   "outputs": [],
   "source": [
    "# df_gids = pd.read_csv('gids.csv', dtype= {'gids': str})\n",
    "# df_gids['downloaded'] = 0\n",
    "# df_gids.to_csv('gids.csv', index=False)"
   ]
  },
  {
   "cell_type": "code",
   "execution_count": null,
   "metadata": {},
   "outputs": [],
   "source": [
    "for i in df_gids.index:\n",
    "    #every 100 games we'll track our progress and add a long sleep\n",
    "    if i % 100==0:\n",
    "        print(i)\n",
    "        sleep(random.uniform(3, 45))\n",
    "    gid = df_gids.loc[i]['gids']\n",
    "    #pull each game log\n",
    "    gl_player = game.Boxscore(gid).player_stats()\n",
    "    sleep(random.uniform(.05, 1))\n",
    "    gl_team = game.Boxscore(gid).team_stats()\n",
    "    sleep(random.uniform(.05, 1))\n",
    "    gl_player_adv = game.BoxscoreAdvanced(gid).sql_players_advanced()\n",
    "    sleep(random.uniform(.05, 1))\n",
    "    gl_team_adv = game.BoxscoreAdvanced(gid).sql_team_advanced()\n",
    "    sleep(random.uniform(.05, 1))\n",
    "    gl_player_ff = game.BoxscoreFourFactors(gid).sql_players_four_factors()\n",
    "    sleep(random.uniform(.05, 1))\n",
    "    gl_team_ff = game.BoxscoreFourFactors(gid).sql_team_four_factors()\n",
    "    sleep(random.uniform(.05, 1))\n",
    "    gl_player_misc = game.BoxscoreMisc(gid).sql_players_misc()\n",
    "    sleep(random.uniform(.05, 1))\n",
    "    gl_team_misc = game.BoxscoreMisc(gid).sql_team_misc()\n",
    "    sleep(random.uniform(.05, 1))\n",
    "    gl_player_scoring = game.BoxscoreScoring(gid).sql_players_scoring()\n",
    "    sleep(random.uniform(.05, 1))\n",
    "    gl_team_scoring = game.BoxscoreScoring(gid).sql_team_scoring()\n",
    "    sleep(random.uniform(.05, 1))\n",
    "    gl_player_usage = game.BoxscoreUsage(gid).sql_players_usage()\n",
    "    sleep(random.uniform(.05, 1))\n",
    "    gl_team_usage = game.BoxscoreUsage(gid).sql_team_usage()\n",
    "    sleep(random.uniform(.05, 1))\n",
    "    gl_other = game.BoxscoreSummary(gid).other_stats()\n",
    "    sleep(random.uniform(.05, 1))\n",
    "    gl_summary = game.BoxscoreSummary(gid).game_summary()\n",
    "\n",
    "    \n",
    "        \n",
    "    os.chdir('/Users/Dan/Desktop/medium_tutorials/base_data/gl_player/')\n",
    "    gl_player.to_csv('gl_player_{}.csv'.format(gid), index=False)\n",
    "    os.chdir('/Users/Dan/Desktop/medium_tutorials/base_data/gl_team/')\n",
    "    gl_team.to_csv('gl_team_{}.csv'.format(gid), index=False)\n",
    "    os.chdir('/Users/Dan/Desktop/medium_tutorials/base_data/gl_player_adv/')\n",
    "    gl_player_adv.to_csv('gl_player_adv_{}.csv'.format(gid), index=False)\n",
    "    os.chdir('/Users/Dan/Desktop/medium_tutorials/base_data/gl_team_adv/')\n",
    "    gl_team_adv.to_csv('gl_team_adv_{}.csv'.format(gid), index=False)\n",
    "    os.chdir('/Users/Dan/Desktop/medium_tutorials/base_data/gl_player_ff/')\n",
    "    gl_player_ff.to_csv('gl_player_ff_{}.csv'.format(gid), index=False)\n",
    "    os.chdir('/Users/Dan/Desktop/medium_tutorials/base_data/gl_team_ff/')\n",
    "    gl_team_ff.to_csv('gl_team_ff_{}.csv'.format(gid), index=False)\n",
    "    os.chdir('/Users/Dan/Desktop/medium_tutorials/base_data/gl_player_misc/')\n",
    "    gl_player_misc.to_csv('gl_player_misc_{}.csv'.format(gid), index=False)\n",
    "    os.chdir('/Users/Dan/Desktop/medium_tutorials/base_data/gl_team_misc/')\n",
    "    gl_team_misc.to_csv('gl_team_misc{}.csv'.format(gid), index=False)\n",
    "    os.chdir('/Users/Dan/Desktop/medium_tutorials/base_data/gl_player_scoring/')\n",
    "    gl_player_scoring.to_csv('gl_player_scoring_{}.csv'.format(gid), index=False)\n",
    "    os.chdir('/Users/Dan/Desktop/medium_tutorials/base_data/gl_team_scoring/')\n",
    "    gl_team_scoring.to_csv('gl_team_scoring_{}.csv'.format(gid), index=False)\n",
    "    os.chdir('/Users/Dan/Desktop/medium_tutorials/base_data/gl_player_usage/')\n",
    "    gl_player_usage.to_csv('gl_player_usage_{}.csv'.format(gid), index=False)\n",
    "    os.chdir('/Users/Dan/Desktop/medium_tutorials/base_data/gl_team_usage/')\n",
    "    gl_team_usage.to_csv('gl_team_usage_{}.csv'.format(gid), index=False)\n",
    "    os.chdir('/Users/Dan/Desktop/medium_tutorials/base_data/gl_other/')\n",
    "    gl_other.to_csv('gl_other_{}.csv'.format(gid), index=False)\n",
    "    os.chdir('/Users/Dan/Desktop/medium_tutorials/base_data/gl_summary/')\n",
    "    gl_summary.to_csv('gl_summary_{}.csv'.format(gid), index=False)\n",
    "    \n",
    "    df_gids.loc[i]['downloaded']=1"
   ]
  },
  {
   "cell_type": "code",
   "execution_count": null,
   "metadata": {},
   "outputs": [],
   "source": []
  }
 ],
 "metadata": {
  "kernelspec": {
   "display_name": ".venv",
   "language": "python",
   "name": ".venv"
  },
  "language_info": {
   "codemirror_mode": {
    "name": "ipython",
    "version": 3
   },
   "file_extension": ".py",
   "mimetype": "text/x-python",
   "name": "python",
   "nbconvert_exporter": "python",
   "pygments_lexer": "ipython3",
   "version": "3.7.0"
  }
 },
 "nbformat": 4,
 "nbformat_minor": 2
}
